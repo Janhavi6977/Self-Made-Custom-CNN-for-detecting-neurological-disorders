{
 "cells": [
  {
   "cell_type": "code",
   "execution_count": 1,
   "id": "f1135953",
   "metadata": {},
   "outputs": [],
   "source": [
    "import zipfile\n",
    "\n",
    "with zipfile.ZipFile('archive (9).zip', 'r') as zip_ref:\n",
    "    zip_ref.extractall()"
   ]
  },
  {
   "cell_type": "code",
   "execution_count": 1,
   "id": "72a611e9",
   "metadata": {},
   "outputs": [
    {
     "name": "stderr",
     "output_type": "stream",
     "text": [
      "C:\\Users\\Tripti Mishra\\anaconda3\\lib\\site-packages\\scipy\\__init__.py:146: UserWarning: A NumPy version >=1.16.5 and <1.23.0 is required for this version of SciPy (detected version 1.25.2\n",
      "  warnings.warn(f\"A NumPy version >={np_minversion} and <{np_maxversion}\"\n"
     ]
    }
   ],
   "source": [
    "import numpy as np\n",
    "import pandas as pd\n",
    "import matplotlib.pyplot as plt\n",
    "from tensorflow.keras.preprocessing.image import ImageDataGenerator\n",
    "from tensorflow.keras.applications import VGG16\n",
    "from keras.layers import Dense, Flatten, Conv2D, MaxPooling2D, Dropout\n",
    "from tensorflow.keras.models import Sequential,Model\n",
    "import keras\n",
    "from tensorflow.keras.models import Model\n",
    "from tensorflow.keras.optimizers.legacy import SGD,Adam\n",
    "import tensorflow as tf\n",
    "import seaborn as sns\n",
    "import os\n",
    "import glob"
   ]
  },
  {
   "cell_type": "code",
   "execution_count": 2,
   "id": "40ff4ccb",
   "metadata": {},
   "outputs": [],
   "source": [
    "train_path = \"Brain Tumor dataset/Training\"\n",
    "test_path = \"Brain Tumor dataset/Testing\"\n",
    "\n",
    "gl_tr = \"Brain Tumor dataset/Training/glioma_tumor\"\n",
    "men_tr = \"Brain Tumor dataset/Training/meningioma_tumor\"\n",
    "no_tr = \"Brain Tumor dataset/Training/no_tumor\"\n",
    "pit_tr = \"Brain Tumor dataset/Training/pituitary_tumor\"\n",
    "\n",
    "\n",
    "gl_ts = \"Brain Tumor dataset/Testing/glioma_tumor\"\n",
    "men_ts = \"Brain Tumor dataset/Testing/meningioma_tumor\"\n",
    "no_ts = \"Brain Tumor dataset/Testing/no_tumor\"\n",
    "pit_ts = \"Brain Tumor dataset/Testing/pituitary_tumor\"\n",
    "\n",
    "gl_tr = os.listdir(gl_tr)\n",
    "men_tr = os.listdir(men_tr)\n",
    "no_tr = os.listdir(no_tr)\n",
    "pit_tr = os.listdir(pit_tr)\n",
    "\n",
    "gl_ts = os.listdir(gl_ts)\n",
    "men_ts = os.listdir(men_ts)\n",
    "no_ts = os.listdir(no_ts)\n",
    "pit_ts = os.listdir(pit_ts)"
   ]
  },
  {
   "cell_type": "code",
   "execution_count": 3,
   "id": "21cd85a3",
   "metadata": {},
   "outputs": [
    {
     "name": "stdout",
     "output_type": "stream",
     "text": [
      "826\n",
      "822\n",
      "395\n",
      "827\n"
     ]
    }
   ],
   "source": [
    "print(len(gl_tr))\n",
    "print(len(men_tr))\n",
    "print(len(no_tr))\n",
    "print(len(pit_tr))"
   ]
  },
  {
   "cell_type": "code",
   "execution_count": 4,
   "id": "42229da2",
   "metadata": {},
   "outputs": [
    {
     "name": "stdout",
     "output_type": "stream",
     "text": [
      "100\n",
      "115\n",
      "105\n",
      "74\n"
     ]
    }
   ],
   "source": [
    "print(len(gl_ts))\n",
    "print(len(men_ts))\n",
    "print(len(no_ts))\n",
    "print(len(pit_ts))"
   ]
  },
  {
   "cell_type": "code",
   "execution_count": 5,
   "id": "be185f8f",
   "metadata": {},
   "outputs": [],
   "source": [
    "gl_tr_label = [0]*len(gl_tr)\n",
    "men_tr_label = [1]*len(men_tr)\n",
    "no_tr_label = [2]*len(no_tr)\n",
    "pit_tr_label = [3]*len(pit_tr)\n",
    "\n",
    "gl_ts_label = [0]*len(gl_ts)\n",
    "men_ts_label = [1]*len(men_ts)\n",
    "no_ts_label = [2]*len(no_ts)\n",
    "pit_ts_label = [3]*len(pit_ts)"
   ]
  },
  {
   "cell_type": "code",
   "execution_count": 6,
   "id": "6503648c",
   "metadata": {},
   "outputs": [],
   "source": [
    "train_label = gl_tr_label + men_tr_label + no_tr_label + pit_tr_label\n",
    "test_label = gl_ts_label + men_ts_label + no_ts_label + pit_ts_label"
   ]
  },
  {
   "cell_type": "code",
   "execution_count": 7,
   "id": "ebbe8636",
   "metadata": {},
   "outputs": [],
   "source": [
    "class_labels = ['glioma_tumor', 'meningioma_tumor', 'no_tumor', 'pituitary_tumor']"
   ]
  },
  {
   "cell_type": "code",
   "execution_count": 8,
   "id": "5c237373",
   "metadata": {},
   "outputs": [
    {
     "data": {
      "text/plain": [
       "3264"
      ]
     },
     "execution_count": 8,
     "metadata": {},
     "output_type": "execute_result"
    }
   ],
   "source": [
    "label = train_label + test_label\n",
    "len(label)"
   ]
  },
  {
   "cell_type": "code",
   "execution_count": 9,
   "id": "195223f8",
   "metadata": {},
   "outputs": [],
   "source": [
    "train_datagen = ImageDataGenerator(featurewise_center=False,\n",
    "                                   rotation_range = 5, fill_mode=\"nearest\",\n",
    "                                   zoom_range=[1/1.0, 1/1.0], width_shift_range=0.0, height_shift_range=0.0, # occasionally out of range\n",
    "                                   horizontal_flip = True, vertical_flip=True,\n",
    "                                   brightness_range=[0.5, 1.3], channel_shift_range=20)"
   ]
  },
  {
   "cell_type": "code",
   "execution_count": 10,
   "id": "78a2d287",
   "metadata": {},
   "outputs": [
    {
     "name": "stdout",
     "output_type": "stream",
     "text": [
      "Found 2870 images belonging to 4 classes.\n",
      "Found 2870 images belonging to 4 classes.\n"
     ]
    }
   ],
   "source": [
    "train_generator = train_datagen.flow_from_directory('Brain Tumor dataset/Training',\n",
    "                                                    batch_size=32,\n",
    "                                                    color_mode='grayscale',\n",
    "                                                    shuffle = False,\n",
    "                                                    target_size=(150,150),\n",
    "                                                    class_mode='categorical')\n",
    "\n",
    "validation_generator = train_datagen.flow_from_directory('Brain Tumor dataset/Testing',\n",
    "                                                         batch_size=32,\n",
    "                                                         color_mode='grayscale',\n",
    "                                                         shuffle = False,\n",
    "                                                         target_size=(150,150),\n",
    "                                                         class_mode='categorical')"
   ]
  },
  {
   "cell_type": "code",
   "execution_count": 11,
   "id": "d51468a5",
   "metadata": {},
   "outputs": [
    {
     "name": "stdout",
     "output_type": "stream",
     "text": [
      "Model: \"sequential\"\n",
      "_________________________________________________________________\n",
      " Layer (type)                Output Shape              Param #   \n",
      "=================================================================\n",
      " conv2d (Conv2D)             (None, 148, 148, 32)      320       \n",
      "                                                                 \n",
      " max_pooling2d (MaxPooling2D  (None, 74, 74, 32)       0         \n",
      " )                                                               \n",
      "                                                                 \n",
      " dropout (Dropout)           (None, 74, 74, 32)        0         \n",
      "                                                                 \n",
      " max_pooling2d_1 (MaxPooling  (None, 37, 37, 32)       0         \n",
      " 2D)                                                             \n",
      "                                                                 \n",
      " dropout_1 (Dropout)         (None, 37, 37, 32)        0         \n",
      "                                                                 \n",
      " conv2d_1 (Conv2D)           (None, 35, 35, 64)        18496     \n",
      "                                                                 \n",
      " max_pooling2d_2 (MaxPooling  (None, 17, 17, 64)       0         \n",
      " 2D)                                                             \n",
      "                                                                 \n",
      " flatten (Flatten)           (None, 18496)             0         \n",
      "                                                                 \n",
      " dense (Dense)               (None, 256)               4735232   \n",
      "                                                                 \n",
      " dropout_2 (Dropout)         (None, 256)               0         \n",
      "                                                                 \n",
      " dense_1 (Dense)             (None, 4)                 1028      \n",
      "                                                                 \n",
      "=================================================================\n",
      "Total params: 4,755,076\n",
      "Trainable params: 4,755,076\n",
      "Non-trainable params: 0\n",
      "_________________________________________________________________\n"
     ]
    }
   ],
   "source": [
    "#if you want to use tranfer learning, skip this cell\n",
    "model = tf.keras.models.Sequential([\n",
    "    tf.keras.layers.Conv2D(32, (3,3), activation='relu', input_shape=(150, 150, 1)),\n",
    "    tf.keras.layers.MaxPooling2D(2,2),\n",
    "    tf.keras.layers.Dropout(0.2),\n",
    "    tf.keras.layers.MaxPooling2D(2,2),\n",
    "    tf.keras.layers.Dropout(0.2),\n",
    "    tf.keras.layers.Conv2D(64, (3,3), activation='relu'),\n",
    "    tf.keras.layers.MaxPooling2D(2,2),\n",
    "    \n",
    "    \n",
    "    tf.keras.layers.Flatten(),\n",
    "    tf.keras.layers.Dense(256, activation='relu'),\n",
    "    tf.keras.layers.Dropout(0.2),\n",
    "    tf.keras.layers.Dense(4, activation='softmax')\n",
    "])\n",
    "\n",
    "model.compile(optimizer='adam',\n",
    "              loss='categorical_crossentropy',\n",
    "              metrics=['accuracy'])\n",
    "\n",
    "model.summary()"
   ]
  },
  {
   "cell_type": "code",
   "execution_count": 13,
   "id": "c52f592b",
   "metadata": {},
   "outputs": [
    {
     "name": "stdout",
     "output_type": "stream",
     "text": [
      "Epoch 1/100\n",
      "90/90 [==============================] - 84s 932ms/step - loss: 1.7059 - accuracy: 0.3718 - val_loss: 1.2655 - val_accuracy: 0.4833\n",
      "Epoch 2/100\n",
      "90/90 [==============================] - 75s 839ms/step - loss: 1.2285 - accuracy: 0.4561 - val_loss: 1.1809 - val_accuracy: 0.4920\n",
      "Epoch 3/100\n",
      "90/90 [==============================] - 76s 840ms/step - loss: 1.1908 - accuracy: 0.4624 - val_loss: 1.1877 - val_accuracy: 0.4990\n",
      "Epoch 4/100\n",
      "90/90 [==============================] - 76s 842ms/step - loss: 1.1264 - accuracy: 0.5073 - val_loss: 1.1296 - val_accuracy: 0.5575\n",
      "Epoch 5/100\n",
      "90/90 [==============================] - 77s 859ms/step - loss: 1.0966 - accuracy: 0.5216 - val_loss: 1.1598 - val_accuracy: 0.5244\n",
      "Epoch 6/100\n",
      "90/90 [==============================] - 76s 844ms/step - loss: 1.0522 - accuracy: 0.5366 - val_loss: 1.1354 - val_accuracy: 0.5139\n",
      "Epoch 7/100\n",
      "90/90 [==============================] - 75s 837ms/step - loss: 1.0545 - accuracy: 0.5429 - val_loss: 1.0778 - val_accuracy: 0.5624\n",
      "Epoch 8/100\n",
      "90/90 [==============================] - 76s 845ms/step - loss: 1.0140 - accuracy: 0.5429 - val_loss: 1.0410 - val_accuracy: 0.5568\n",
      "Epoch 9/100\n",
      "90/90 [==============================] - 77s 857ms/step - loss: 0.9833 - accuracy: 0.5899 - val_loss: 1.0257 - val_accuracy: 0.5927\n",
      "Epoch 10/100\n",
      "90/90 [==============================] - 75s 839ms/step - loss: 0.9290 - accuracy: 0.6143 - val_loss: 0.9245 - val_accuracy: 0.5976\n",
      "Epoch 11/100\n",
      "90/90 [==============================] - 75s 837ms/step - loss: 0.9361 - accuracy: 0.6024 - val_loss: 1.0029 - val_accuracy: 0.5972\n",
      "Epoch 12/100\n",
      "90/90 [==============================] - 76s 844ms/step - loss: 0.9197 - accuracy: 0.6038 - val_loss: 0.9522 - val_accuracy: 0.6359\n",
      "Epoch 13/100\n",
      "90/90 [==============================] - 75s 839ms/step - loss: 0.8591 - accuracy: 0.6324 - val_loss: 0.9182 - val_accuracy: 0.6213\n",
      "Epoch 14/100\n",
      "90/90 [==============================] - 76s 844ms/step - loss: 0.8939 - accuracy: 0.6024 - val_loss: 0.8544 - val_accuracy: 0.6551\n",
      "Epoch 15/100\n",
      "90/90 [==============================] - 76s 847ms/step - loss: 0.8565 - accuracy: 0.6366 - val_loss: 0.8634 - val_accuracy: 0.6641\n",
      "Epoch 16/100\n",
      "90/90 [==============================] - 76s 845ms/step - loss: 0.8377 - accuracy: 0.6519 - val_loss: 0.8829 - val_accuracy: 0.6613\n",
      "Epoch 17/100\n",
      "90/90 [==============================] - 75s 835ms/step - loss: 0.8347 - accuracy: 0.6481 - val_loss: 0.9116 - val_accuracy: 0.6390\n",
      "Epoch 18/100\n",
      "90/90 [==============================] - 76s 846ms/step - loss: 0.8253 - accuracy: 0.6415 - val_loss: 0.7181 - val_accuracy: 0.7038\n",
      "Epoch 19/100\n",
      "90/90 [==============================] - 76s 844ms/step - loss: 0.7478 - accuracy: 0.6969 - val_loss: 0.7188 - val_accuracy: 0.7042\n",
      "Epoch 20/100\n",
      "90/90 [==============================] - 76s 842ms/step - loss: 0.7181 - accuracy: 0.6944 - val_loss: 0.7000 - val_accuracy: 0.7362\n",
      "Epoch 21/100\n",
      "90/90 [==============================] - 77s 856ms/step - loss: 0.7007 - accuracy: 0.6944 - val_loss: 0.6685 - val_accuracy: 0.7436\n",
      "Epoch 22/100\n",
      "90/90 [==============================] - 76s 845ms/step - loss: 0.7302 - accuracy: 0.6944 - val_loss: 0.6901 - val_accuracy: 0.7394\n",
      "Epoch 23/100\n",
      "90/90 [==============================] - 76s 843ms/step - loss: 0.6886 - accuracy: 0.7122 - val_loss: 0.6327 - val_accuracy: 0.7557\n",
      "Epoch 24/100\n",
      "90/90 [==============================] - 76s 849ms/step - loss: 0.6866 - accuracy: 0.7035 - val_loss: 0.6594 - val_accuracy: 0.7648\n",
      "Epoch 25/100\n",
      "90/90 [==============================] - 76s 851ms/step - loss: 0.6360 - accuracy: 0.7314 - val_loss: 0.5997 - val_accuracy: 0.7429\n",
      "Epoch 26/100\n",
      "90/90 [==============================] - 77s 854ms/step - loss: 0.6489 - accuracy: 0.7125 - val_loss: 0.5865 - val_accuracy: 0.7780\n",
      "Epoch 27/100\n",
      "90/90 [==============================] - 76s 849ms/step - loss: 0.5923 - accuracy: 0.7477 - val_loss: 0.5846 - val_accuracy: 0.7533\n",
      "Epoch 28/100\n",
      "90/90 [==============================] - 77s 854ms/step - loss: 0.5739 - accuracy: 0.7578 - val_loss: 0.5845 - val_accuracy: 0.7599\n",
      "Epoch 29/100\n",
      "90/90 [==============================] - 77s 863ms/step - loss: 0.6005 - accuracy: 0.7456 - val_loss: 0.5125 - val_accuracy: 0.8021\n",
      "Epoch 30/100\n",
      "90/90 [==============================] - 79s 880ms/step - loss: 0.5803 - accuracy: 0.7666 - val_loss: 0.5155 - val_accuracy: 0.7899\n",
      "Epoch 31/100\n",
      "90/90 [==============================] - 79s 877ms/step - loss: 0.5713 - accuracy: 0.7554 - val_loss: 0.4862 - val_accuracy: 0.8087\n",
      "Epoch 32/100\n",
      "90/90 [==============================] - 87s 965ms/step - loss: 0.5301 - accuracy: 0.7725 - val_loss: 0.5713 - val_accuracy: 0.7631\n",
      "Epoch 33/100\n",
      "90/90 [==============================] - 93s 1s/step - loss: 0.5351 - accuracy: 0.7760 - val_loss: 0.4280 - val_accuracy: 0.8334\n",
      "Epoch 34/100\n",
      "90/90 [==============================] - 77s 855ms/step - loss: 0.5149 - accuracy: 0.7920 - val_loss: 0.5204 - val_accuracy: 0.8084\n",
      "Epoch 35/100\n",
      "90/90 [==============================] - 76s 848ms/step - loss: 0.4731 - accuracy: 0.8059 - val_loss: 0.5322 - val_accuracy: 0.7854\n",
      "Epoch 36/100\n",
      "90/90 [==============================] - 85s 944ms/step - loss: 0.5169 - accuracy: 0.7875 - val_loss: 0.4790 - val_accuracy: 0.8101\n",
      "Epoch 37/100\n",
      "90/90 [==============================] - 79s 884ms/step - loss: 0.4912 - accuracy: 0.7972 - val_loss: 0.4581 - val_accuracy: 0.8157\n",
      "Epoch 38/100\n",
      "90/90 [==============================] - 86s 955ms/step - loss: 0.4741 - accuracy: 0.8066 - val_loss: 0.3922 - val_accuracy: 0.8627\n",
      "Epoch 39/100\n",
      "90/90 [==============================] - 83s 928ms/step - loss: 0.4569 - accuracy: 0.8174 - val_loss: 0.3372 - val_accuracy: 0.8746\n",
      "Epoch 40/100\n",
      "90/90 [==============================] - 80s 896ms/step - loss: 0.4204 - accuracy: 0.8268 - val_loss: 0.3783 - val_accuracy: 0.8610\n",
      "Epoch 41/100\n",
      "90/90 [==============================] - 77s 855ms/step - loss: 0.4003 - accuracy: 0.8286 - val_loss: 0.3069 - val_accuracy: 0.8955\n",
      "Epoch 42/100\n",
      "90/90 [==============================] - 78s 871ms/step - loss: 0.3866 - accuracy: 0.8390 - val_loss: 0.3217 - val_accuracy: 0.8815\n",
      "Epoch 43/100\n",
      "90/90 [==============================] - 80s 893ms/step - loss: 0.4546 - accuracy: 0.8181 - val_loss: 0.3812 - val_accuracy: 0.8620\n",
      "Epoch 44/100\n",
      "90/90 [==============================] - 80s 892ms/step - loss: 0.3880 - accuracy: 0.8366 - val_loss: 0.3150 - val_accuracy: 0.8944\n",
      "Epoch 45/100\n",
      "90/90 [==============================] - 78s 869ms/step - loss: 0.4111 - accuracy: 0.8418 - val_loss: 0.2937 - val_accuracy: 0.8889\n",
      "Epoch 46/100\n",
      "90/90 [==============================] - 77s 863ms/step - loss: 0.3368 - accuracy: 0.8610 - val_loss: 0.2396 - val_accuracy: 0.9220\n",
      "Epoch 47/100\n",
      "90/90 [==============================] - 79s 880ms/step - loss: 0.3570 - accuracy: 0.8662 - val_loss: 0.2752 - val_accuracy: 0.8976\n",
      "Epoch 48/100\n",
      "90/90 [==============================] - 81s 905ms/step - loss: 0.3128 - accuracy: 0.8836 - val_loss: 0.2745 - val_accuracy: 0.9021\n",
      "Epoch 49/100\n",
      "90/90 [==============================] - 81s 897ms/step - loss: 0.3535 - accuracy: 0.8603 - val_loss: 0.2541 - val_accuracy: 0.9125\n",
      "Epoch 50/100\n",
      "90/90 [==============================] - 81s 899ms/step - loss: 0.3285 - accuracy: 0.8746 - val_loss: 0.2763 - val_accuracy: 0.8871\n",
      "Epoch 51/100\n",
      "90/90 [==============================] - 86s 959ms/step - loss: 0.3472 - accuracy: 0.8686 - val_loss: 0.2700 - val_accuracy: 0.9150\n",
      "Epoch 52/100\n",
      "90/90 [==============================] - 80s 894ms/step - loss: 0.3116 - accuracy: 0.8728 - val_loss: 0.2243 - val_accuracy: 0.9209\n",
      "Epoch 53/100\n",
      "90/90 [==============================] - 81s 902ms/step - loss: 0.3585 - accuracy: 0.8672 - val_loss: 0.2566 - val_accuracy: 0.9056\n",
      "Epoch 54/100\n",
      "90/90 [==============================] - 81s 900ms/step - loss: 0.3139 - accuracy: 0.8780 - val_loss: 0.2226 - val_accuracy: 0.9237\n",
      "Epoch 55/100\n",
      "90/90 [==============================] - 80s 888ms/step - loss: 0.3087 - accuracy: 0.8854 - val_loss: 0.2154 - val_accuracy: 0.9300\n",
      "Epoch 56/100\n",
      "90/90 [==============================] - 81s 902ms/step - loss: 0.2998 - accuracy: 0.8711 - val_loss: 0.1872 - val_accuracy: 0.9376\n",
      "Epoch 57/100\n",
      "90/90 [==============================] - 86s 957ms/step - loss: 0.3103 - accuracy: 0.8780 - val_loss: 0.2199 - val_accuracy: 0.9282\n",
      "Epoch 58/100\n",
      "90/90 [==============================] - 84s 935ms/step - loss: 0.2538 - accuracy: 0.8972 - val_loss: 0.1630 - val_accuracy: 0.9439\n",
      "Epoch 59/100\n",
      "90/90 [==============================] - 80s 891ms/step - loss: 0.2735 - accuracy: 0.8990 - val_loss: 0.1779 - val_accuracy: 0.9331\n",
      "Epoch 60/100\n",
      "90/90 [==============================] - 86s 958ms/step - loss: 0.3088 - accuracy: 0.8857 - val_loss: 0.2315 - val_accuracy: 0.9171\n",
      "Epoch 61/100\n",
      "90/90 [==============================] - 80s 894ms/step - loss: 0.3084 - accuracy: 0.8746 - val_loss: 0.1717 - val_accuracy: 0.9516\n",
      "Epoch 62/100\n",
      "90/90 [==============================] - 81s 902ms/step - loss: 0.2718 - accuracy: 0.8990 - val_loss: 0.2159 - val_accuracy: 0.9265\n",
      "Epoch 63/100\n",
      "90/90 [==============================] - 91s 1s/step - loss: 0.2803 - accuracy: 0.9010 - val_loss: 0.1618 - val_accuracy: 0.9460\n",
      "Epoch 64/100\n",
      "90/90 [==============================] - 84s 931ms/step - loss: 0.2445 - accuracy: 0.9080 - val_loss: 0.1664 - val_accuracy: 0.9523\n",
      "Epoch 65/100\n",
      "90/90 [==============================] - 84s 931ms/step - loss: 0.2344 - accuracy: 0.9132 - val_loss: 0.1768 - val_accuracy: 0.9341\n",
      "Epoch 66/100\n",
      "90/90 [==============================] - 83s 919ms/step - loss: 0.2454 - accuracy: 0.9070 - val_loss: 0.1424 - val_accuracy: 0.9596\n",
      "Epoch 67/100\n",
      "90/90 [==============================] - 80s 891ms/step - loss: 0.2307 - accuracy: 0.9118 - val_loss: 0.1724 - val_accuracy: 0.9481\n",
      "Epoch 68/100\n",
      "90/90 [==============================] - 79s 878ms/step - loss: 0.2177 - accuracy: 0.9164 - val_loss: 0.1626 - val_accuracy: 0.9369\n",
      "Epoch 69/100\n",
      "90/90 [==============================] - 78s 867ms/step - loss: 0.2459 - accuracy: 0.9063 - val_loss: 0.1846 - val_accuracy: 0.9439\n",
      "Epoch 70/100\n",
      "90/90 [==============================] - 77s 863ms/step - loss: 0.2239 - accuracy: 0.9226 - val_loss: 0.1716 - val_accuracy: 0.9404\n",
      "Epoch 71/100\n",
      "90/90 [==============================] - 82s 913ms/step - loss: 0.2248 - accuracy: 0.9139 - val_loss: 0.1507 - val_accuracy: 0.9564\n",
      "Epoch 72/100\n",
      "90/90 [==============================] - 78s 867ms/step - loss: 0.1872 - accuracy: 0.9275 - val_loss: 0.1174 - val_accuracy: 0.9599\n",
      "Epoch 73/100\n",
      "90/90 [==============================] - 78s 864ms/step - loss: 0.2137 - accuracy: 0.9167 - val_loss: 0.1321 - val_accuracy: 0.9585\n",
      "Epoch 74/100\n",
      "90/90 [==============================] - 78s 866ms/step - loss: 0.2295 - accuracy: 0.9192 - val_loss: 0.1437 - val_accuracy: 0.9488\n",
      "Epoch 75/100\n",
      "90/90 [==============================] - 77s 862ms/step - loss: 0.2027 - accuracy: 0.9202 - val_loss: 0.1136 - val_accuracy: 0.9641\n",
      "Epoch 76/100\n",
      "90/90 [==============================] - 78s 868ms/step - loss: 0.1953 - accuracy: 0.9230 - val_loss: 0.1339 - val_accuracy: 0.9568\n",
      "Epoch 77/100\n",
      "90/90 [==============================] - 77s 860ms/step - loss: 0.1795 - accuracy: 0.9282 - val_loss: 0.1221 - val_accuracy: 0.9596\n",
      "Epoch 78/100\n",
      "90/90 [==============================] - 77s 856ms/step - loss: 0.2014 - accuracy: 0.9307 - val_loss: 0.1474 - val_accuracy: 0.9537\n",
      "Epoch 79/100\n",
      "90/90 [==============================] - 76s 848ms/step - loss: 0.2197 - accuracy: 0.9282 - val_loss: 0.1617 - val_accuracy: 0.9477\n",
      "Epoch 80/100\n",
      "90/90 [==============================] - 76s 844ms/step - loss: 0.2210 - accuracy: 0.9220 - val_loss: 0.1537 - val_accuracy: 0.9537\n",
      "Epoch 81/100\n",
      "90/90 [==============================] - 77s 855ms/step - loss: 0.2343 - accuracy: 0.9157 - val_loss: 0.1037 - val_accuracy: 0.9617\n",
      "Epoch 82/100\n",
      "90/90 [==============================] - 80s 894ms/step - loss: 0.1928 - accuracy: 0.9334 - val_loss: 0.1034 - val_accuracy: 0.9707\n",
      "Epoch 83/100\n",
      "90/90 [==============================] - 81s 903ms/step - loss: 0.2040 - accuracy: 0.9289 - val_loss: 0.0997 - val_accuracy: 0.9714\n",
      "Epoch 84/100\n",
      "90/90 [==============================] - 77s 856ms/step - loss: 0.1845 - accuracy: 0.9300 - val_loss: 0.0809 - val_accuracy: 0.9774\n",
      "Epoch 85/100\n",
      "90/90 [==============================] - 77s 860ms/step - loss: 0.1709 - accuracy: 0.9355 - val_loss: 0.1004 - val_accuracy: 0.9659\n",
      "Epoch 86/100\n",
      "90/90 [==============================] - 77s 854ms/step - loss: 0.2027 - accuracy: 0.9331 - val_loss: 0.1056 - val_accuracy: 0.9714\n",
      "Epoch 87/100\n",
      "90/90 [==============================] - 78s 865ms/step - loss: 0.1642 - accuracy: 0.9411 - val_loss: 0.1187 - val_accuracy: 0.9631\n",
      "Epoch 88/100\n",
      "90/90 [==============================] - 690s 8s/step - loss: 0.1705 - accuracy: 0.9408 - val_loss: 0.1321 - val_accuracy: 0.9547\n",
      "Epoch 89/100\n",
      "90/90 [==============================] - 65s 725ms/step - loss: 0.1927 - accuracy: 0.9293 - val_loss: 0.0971 - val_accuracy: 0.9686\n",
      "Epoch 90/100\n",
      "90/90 [==============================] - 76s 843ms/step - loss: 0.1995 - accuracy: 0.9275 - val_loss: 0.0794 - val_accuracy: 0.9812\n",
      "Epoch 91/100\n",
      "90/90 [==============================] - 76s 848ms/step - loss: 0.1844 - accuracy: 0.9341 - val_loss: 0.0778 - val_accuracy: 0.9760\n",
      "Epoch 92/100\n",
      "90/90 [==============================] - 78s 865ms/step - loss: 0.1629 - accuracy: 0.9394 - val_loss: 0.0715 - val_accuracy: 0.9767\n",
      "Epoch 93/100\n",
      "90/90 [==============================] - 76s 851ms/step - loss: 0.1632 - accuracy: 0.9463 - val_loss: 0.0715 - val_accuracy: 0.9805\n",
      "Epoch 94/100\n",
      "90/90 [==============================] - 76s 844ms/step - loss: 0.1438 - accuracy: 0.9443 - val_loss: 0.0670 - val_accuracy: 0.9791\n",
      "Epoch 95/100\n",
      "90/90 [==============================] - 76s 843ms/step - loss: 0.1185 - accuracy: 0.9585 - val_loss: 0.0561 - val_accuracy: 0.9857\n",
      "Epoch 96/100\n",
      "90/90 [==============================] - 76s 848ms/step - loss: 0.1262 - accuracy: 0.9488 - val_loss: 0.0515 - val_accuracy: 0.9882\n",
      "Epoch 97/100\n",
      "90/90 [==============================] - 76s 847ms/step - loss: 0.1386 - accuracy: 0.9467 - val_loss: 0.0660 - val_accuracy: 0.9836\n",
      "Epoch 98/100\n",
      "90/90 [==============================] - 76s 843ms/step - loss: 0.1373 - accuracy: 0.9519 - val_loss: 0.0650 - val_accuracy: 0.9861\n",
      "Epoch 99/100\n",
      "90/90 [==============================] - 83s 922ms/step - loss: 0.1466 - accuracy: 0.9491 - val_loss: 0.0709 - val_accuracy: 0.9770\n",
      "Epoch 100/100\n",
      "90/90 [==============================] - 82s 912ms/step - loss: 0.1233 - accuracy: 0.9578 - val_loss: 0.0529 - val_accuracy: 0.9850\n"
     ]
    }
   ],
   "source": [
    "history = model.fit(\n",
    "    train_generator,\n",
    "   \n",
    "    epochs=100,\n",
    "    verbose=1,\n",
    "   \n",
    "    validation_data=validation_generator,\n",
    "    \n",
    ")"
   ]
  },
  {
   "cell_type": "code",
   "execution_count": 14,
   "id": "b7705a4a",
   "metadata": {},
   "outputs": [
    {
     "data": {
      "text/plain": [
       "<Figure size 432x288 with 0 Axes>"
      ]
     },
     "execution_count": 14,
     "metadata": {},
     "output_type": "execute_result"
    },
    {
     "data": {
      "image/png": "[encoded data removed]",
      "text/plain": [
       "<Figure size 432x288 with 1 Axes>"
      ]
     },
     "metadata": {
      "needs_background": "light"
     },
     "output_type": "display_data"
    },
    {
     "data": {
      "image/png": "[encoded data removed]",
      "text/plain": [
       "<Figure size 432x288 with 1 Axes>"
      ]
     },
     "metadata": {
      "needs_background": "light"
     },
     "output_type": "display_data"
    },
    {
     "data": {
      "text/plain": [
       "<Figure size 432x288 with 0 Axes>"
      ]
     },
     "metadata": {},
     "output_type": "display_data"
    }
   ],
   "source": [
    "acc = history.history['accuracy']\n",
    "val_acc = history.history['val_accuracy']\n",
    "loss = history.history['loss']\n",
    "val_loss = history.history['val_loss']\n",
    "\n",
    "epochs = range(len(acc))\n",
    "\n",
    "plt.plot(epochs, acc, 'r')\n",
    "plt.plot(epochs, val_acc, 'b')\n",
    "plt.title('Training and Validation Accuracy')\n",
    "plt.ylabel('accuracy')\n",
    "plt.xlabel('epoch')\n",
    "plt.legend(['train', 'val'], loc='upper left')\n",
    "plt.figure()\n",
    "\n",
    "plt.plot(epochs, loss, 'r')\n",
    "plt.plot(epochs, val_loss, 'b')\n",
    "plt.ylabel('loss')\n",
    "plt.xlabel('epoch')\n",
    "plt.legend(['train', 'val'], loc='upper left')\n",
    "plt.title('Training and Validaion Loss')\n",
    "plt.figure()"
   ]
  },
  {
   "cell_type": "code",
   "execution_count": 15,
   "id": "e127695b",
   "metadata": {},
   "outputs": [
    {
     "name": "stdout",
     "output_type": "stream",
     "text": [
      "90/90 [==============================] - 36s 389ms/step\n"
     ]
    }
   ],
   "source": [
    "predictions = model.predict(validation_generator)"
   ]
  },
  {
   "cell_type": "code",
   "execution_count": 16,
   "id": "a70b45e5",
   "metadata": {},
   "outputs": [
    {
     "name": "stderr",
     "output_type": "stream",
     "text": [
      "C:\\Users\\Tripti Mishra\\AppData\\Local\\Temp\\ipykernel_23040\\3378472596.py:1: UserWarning: `Model.evaluate_generator` is deprecated and will be removed in a future version. Please use `Model.evaluate`, which supports generators.\n",
      "  model.evaluate_generator(validation_generator)\n"
     ]
    },
    {
     "data": {
      "text/plain": [
       "[0.05552550032734871, 0.986759603023529]"
      ]
     },
     "execution_count": 16,
     "metadata": {},
     "output_type": "execute_result"
    }
   ],
   "source": [
    "model.evaluate_generator(validation_generator)"
   ]
  },
  {
   "cell_type": "code",
   "execution_count": 18,
   "id": "32a4ff69",
   "metadata": {},
   "outputs": [
    {
     "data": {
      "text/plain": [
       "array([0, 0, 0, ..., 3, 3, 3], dtype=int64)"
      ]
     },
     "execution_count": 18,
     "metadata": {},
     "output_type": "execute_result"
    }
   ],
   "source": [
    "y_pred = np.argmax(predictions, axis = 1)\n",
    "y_pred"
   ]
  },
  {
   "cell_type": "code",
   "execution_count": 19,
   "id": "7fd8af27",
   "metadata": {},
   "outputs": [],
   "source": [
    "y_true = validation_generator.classes"
   ]
  },
  {
   "cell_type": "code",
   "execution_count": 20,
   "id": "b56c73a3",
   "metadata": {},
   "outputs": [
    {
     "data": {
      "text/plain": [
       "array([[815,   8,   2,   1],\n",
       "       [ 17, 799,   4,   2],\n",
       "       [  0,   3, 391,   1],\n",
       "       [  1,   2,   0, 824]], dtype=int64)"
      ]
     },
     "execution_count": 20,
     "metadata": {},
     "output_type": "execute_result"
    }
   ],
   "source": [
    "from sklearn.metrics import confusion_matrix\n",
    "\n",
    "cm = confusion_matrix(y_true, y_pred)\n",
    "cm"
   ]
  },
  {
   "cell_type": "code",
   "execution_count": 21,
   "id": "78a06709",
   "metadata": {},
   "outputs": [
    {
     "name": "stdout",
     "output_type": "stream",
     "text": [
      "              precision    recall  f1-score   support\n",
      "\n",
      "           0       0.98      0.99      0.98       826\n",
      "           1       0.98      0.97      0.98       822\n",
      "           2       0.98      0.99      0.99       395\n",
      "           3       1.00      1.00      1.00       827\n",
      "\n",
      "    accuracy                           0.99      2870\n",
      "   macro avg       0.99      0.99      0.99      2870\n",
      "weighted avg       0.99      0.99      0.99      2870\n",
      "\n"
     ]
    }
   ],
   "source": [
    "from sklearn.metrics import classification_report\n",
    "\n",
    "report = classification_report(y_true, y_pred)\n",
    "print(report)"
   ]
  },
  {
   "cell_type": "code",
   "execution_count": 23,
   "id": "29bd9da7",
   "metadata": {},
   "outputs": [],
   "source": [
    "diseases_labels = []\n",
    "\n",
    "for key, value in train_generator.class_indices.items():\n",
    " diseases_labels.append(key)"
   ]
  },
  {
   "cell_type": "code",
   "execution_count": 33,
   "id": "2d1f0b9d",
   "metadata": {},
   "outputs": [],
   "source": [
    "def evaluate(actual, pred):\n",
    "  pre = []\n",
    "  for i in pred:\n",
    "    pre.append(np.argmax(i))\n",
    "\n",
    "  accuracy = (pre == actual).sum() / actual.shape[0]\n",
    "  print(f'Accuracy: {accuracy}')\n",
    "\n",
    " \n",
    "\n",
    "  fig, ax = plt.subplots(figsize=(10,8))\n",
    "  conf_mat = confusion_matrix(actual, pre)\n",
    "  sns.heatmap(conf_mat, annot=True, fmt='.0f', cmap=\"YlGnBu\", xticklabels=diseases_labels, yticklabels=diseases_labels).set_title('Confusion Matrix Heat map')\n",
    "  plt.show()"
   ]
  },
  {
   "cell_type": "code",
   "execution_count": 34,
   "id": "3c578a59",
   "metadata": {},
   "outputs": [
    {
     "name": "stdout",
     "output_type": "stream",
     "text": [
      "Accuracy: 0.9857142857142858\n"
     ]
    },
    {
     "data": {
      "image/png": "[encoded data removed]",
      "text/plain": [
       "<Figure size 720x576 with 2 Axes>"
      ]
     },
     "metadata": {
      "needs_background": "light"
     },
     "output_type": "display_data"
    }
   ],
   "source": [
    "evaluate(validation_generator.classes,predictions)"
   ]
  },
  {
   "cell_type": "code",
   "execution_count": 40,
   "id": "c6284d97",
   "metadata": {},
   "outputs": [
    {
     "data": {
      "image/png": "[encoded data removed]",
      "text/plain": [
       "<Figure size 432x360 with 1 Axes>"
      ]
     },
     "metadata": {
      "needs_background": "light"
     },
     "output_type": "display_data"
    }
   ],
   "source": [
    "class_names = ['glioma_tumor', 'meningioma_tumor', 'no_tumor', 'pituitary_tumor']\n",
    "\n",
    "glioma_tumor = len(os.listdir('Brain Tumor dataset/Training/glioma_tumor'))\n",
    "meningioma_tumor = len(os.listdir('Brain Tumor dataset/Training/meningioma_tumor'))\n",
    "no_tumor = len(os.listdir('Brain Tumor dataset/Training/no_tumor'))\n",
    "pituitary_tumor = len(os.listdir('Brain Tumor dataset/Training/pituitary_tumor'))\n",
    "images = [glioma_tumor, meningioma_tumor, no_tumor, pituitary_tumor]\n",
    "\n",
    "plt.figure(figsize=(6,5))\n",
    "sns.barplot(x= class_names, y= images, palette= sns.cubehelix_palette(start=2.8, rot=-.4))\n",
    "plt.title('Frequency of Each Class in the Training Dataset', fontsize=14)\n",
    "plt.xlabel('Class names', fontsize=12)\n",
    "plt.ylabel('Count', fontsize=12)\n",
    "plt.xticks(range(len(images)))\n",
    "plt.show()"
   ]
  },
  {
   "cell_type": "code",
   "execution_count": 39,
   "id": "30c76edd",
   "metadata": {},
   "outputs": [
    {
     "data": {
      "image/png": "[encoded data removed]",
      "text/plain": [
       "<Figure size 432x360 with 1 Axes>"
      ]
     },
     "metadata": {
      "needs_background": "light"
     },
     "output_type": "display_data"
    }
   ],
   "source": [
    "class_names = ['glioma_tumor', 'meningioma_tumor', 'no_tumor', 'pituitary_tumor']\n",
    "\n",
    "glioma_tumor = len(os.listdir('Brain Tumor dataset/Testing/glioma_tumor'))\n",
    "meningioma_tumor = len(os.listdir('Brain Tumor dataset/Testing/meningioma_tumor'))\n",
    "no_tumor = len(os.listdir('Brain Tumor dataset/Testing/no_tumor'))\n",
    "pituitary_tumor = len(os.listdir('Brain Tumor dataset/Testing/pituitary_tumor'))\n",
    "images = [glioma_tumor, meningioma_tumor, no_tumor, pituitary_tumor]\n",
    "\n",
    "plt.figure(figsize=(6,5))\n",
    "sns.barplot(x= class_names, y= images, palette= sns.cubehelix_palette(start=2.8, rot=-.4))\n",
    "plt.title('Frequency of Each Class in the Testing Dataset', fontsize=14)\n",
    "plt.xlabel('Class names', fontsize=12)\n",
    "plt.ylabel('Count', fontsize=12)\n",
    "plt.xticks(range(len(images)))\n",
    "plt.show()"
   ]
  },
  {
   "cell_type": "code",
   "execution_count": null,
   "id": "ff551da5",
   "metadata": {},
   "outputs": [],
   "source": []
  }
 ],
 "metadata": {
  "kernelspec": {
   "display_name": "Python 3 (ipykernel)",
   "language": "python",
   "name": "python3"
  },
  "language_info": {
   "codemirror_mode": {
    "name": "ipython",
    "version": 3
   },
   "file_extension": ".py",
   "mimetype": "text/x-python",
   "name": "python",
   "nbconvert_exporter": "python",
   "pygments_lexer": "ipython3",
   "version": "3.9.12"
  }
 },
 "nbformat": 4,
 "nbformat_minor": 5
}
